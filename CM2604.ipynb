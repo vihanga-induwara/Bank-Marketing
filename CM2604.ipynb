{
  "nbformat": 4,
  "nbformat_minor": 0,
  "metadata": {
    "colab": {
      "provenance": [],
      "authorship_tag": "ABX9TyN5/Yi8DX/Uv3TpsdONq93R",
      "include_colab_link": true
    },
    "kernelspec": {
      "name": "python3",
      "display_name": "Python 3"
    },
    "language_info": {
      "name": "python"
    }
  },
  "cells": [
    {
      "cell_type": "markdown",
      "metadata": {
        "id": "view-in-github",
        "colab_type": "text"
      },
      "source": [
        "<a href=\"https://colab.research.google.com/github/vihanga-induwara/Bank-Marketing/blob/main/CM2604.ipynb\" target=\"_parent\"><img src=\"https://colab.research.google.com/assets/colab-badge.svg\" alt=\"Open In Colab\"/></a>"
      ]
    },
    {
      "cell_type": "code",
      "execution_count": null,
      "metadata": {
        "id": "Z-YstVbPM0AK"
      },
      "outputs": [],
      "source": []
    },
    {
      "cell_type": "markdown",
      "source": [
        "# **1. Load and Import Libraries**"
      ],
      "metadata": {
        "id": "R_TTPylORR7Z"
      }
    },
    {
      "cell_type": "code",
      "source": [],
      "metadata": {
        "id": "kdwAX6dWTu70"
      },
      "execution_count": null,
      "outputs": []
    },
    {
      "cell_type": "markdown",
      "source": [
        "# **2. Load the Dataset**"
      ],
      "metadata": {
        "id": "f-WeRZDeRjZr"
      }
    },
    {
      "cell_type": "code",
      "source": [],
      "metadata": {
        "id": "V5q-Oe5vUa6w"
      },
      "execution_count": null,
      "outputs": []
    },
    {
      "cell_type": "markdown",
      "source": [
        "# **3. Explore the Dataset**"
      ],
      "metadata": {
        "id": "v_lG3COIRl9M"
      }
    },
    {
      "cell_type": "markdown",
      "source": [
        "Inspect the first few rows with .head()."
      ],
      "metadata": {
        "id": "TLZjZSQMRpUQ"
      }
    },
    {
      "cell_type": "markdown",
      "source": [
        "Check for missing values using .isnull().sum()"
      ],
      "metadata": {
        "id": "pmbT2W0kRuS5"
      }
    },
    {
      "cell_type": "markdown",
      "source": [
        "Check for class imbalance using .value_counts() on the target variable."
      ],
      "metadata": {
        "id": "DYoq3uQCRwxg"
      }
    },
    {
      "cell_type": "markdown",
      "source": [
        "Use .describe() for statistical overview of the dataset."
      ],
      "metadata": {
        "id": "3tXquTNwR0-7"
      }
    },
    {
      "cell_type": "markdown",
      "source": [
        "Examine feature types (categorical, continuous) using .dtypes."
      ],
      "metadata": {
        "id": "xdGnIrFAR3iY"
      }
    },
    {
      "cell_type": "markdown",
      "source": [
        "# **4. Data Preprocessing**"
      ],
      "metadata": {
        "id": "bw9KNv7bR6co"
      }
    },
    {
      "cell_type": "markdown",
      "source": [
        "4.1 Handle Class Imbalance"
      ],
      "metadata": {
        "id": "qiCFZDO_R9lZ"
      }
    },
    {
      "cell_type": "markdown",
      "source": [
        "4.2 Encode Categorical Variables"
      ],
      "metadata": {
        "id": "Sn_EPtTMR-kN"
      }
    },
    {
      "cell_type": "markdown",
      "source": [
        "4.3 Feature Engineering"
      ],
      "metadata": {
        "id": "m24vaNF2SFYe"
      }
    },
    {
      "cell_type": "markdown",
      "source": [
        "4.3.1 Feature Selection:"
      ],
      "metadata": {
        "id": "_hPPnbvhSK6O"
      }
    },
    {
      "cell_type": "markdown",
      "source": [
        "4.3.2 Feature Extraction (Principal Component Analysis (PCA))"
      ],
      "metadata": {
        "id": "7kUtghqmSNhw"
      }
    },
    {
      "cell_type": "markdown",
      "source": [
        "4.5 Normalize/Scale Numerical Features"
      ],
      "metadata": {
        "id": "3fCi_bxoSTvm"
      }
    },
    {
      "cell_type": "markdown",
      "source": [
        "4.6 Split the Dataset"
      ],
      "metadata": {
        "id": "b1ImY-W9SYNM"
      }
    },
    {
      "cell_type": "markdown",
      "source": [
        "# **5. Visualize the Data**"
      ],
      "metadata": {
        "id": "ILrWySsdSa-y"
      }
    },
    {
      "cell_type": "markdown",
      "source": [
        "5.1 Correlation Heatmap"
      ],
      "metadata": {
        "id": "g-n-nzXcSd0Q"
      }
    },
    {
      "cell_type": "markdown",
      "source": [
        "5.2 Feature Distribution"
      ],
      "metadata": {
        "id": "7eUYS5u2Sfwe"
      }
    },
    {
      "cell_type": "markdown",
      "source": [
        "5.3 Class Distribution"
      ],
      "metadata": {
        "id": "OiH7Ww3CSiPh"
      }
    },
    {
      "cell_type": "markdown",
      "source": [
        "5.4 Feature Relationships"
      ],
      "metadata": {
        "id": "LZkSJt95SkpK"
      }
    },
    {
      "cell_type": "markdown",
      "source": [
        "# **6. Train-Test Split**"
      ],
      "metadata": {
        "id": "t-PRQXo9Slfv"
      }
    },
    {
      "cell_type": "code",
      "source": [],
      "metadata": {
        "id": "x5N2BLTaUMpK"
      },
      "execution_count": null,
      "outputs": []
    },
    {
      "cell_type": "markdown",
      "source": [
        "# **7. Random Forest Model**"
      ],
      "metadata": {
        "id": "-xsv1PTMSqQA"
      }
    },
    {
      "cell_type": "markdown",
      "source": [
        "7.1 Model Instantiation"
      ],
      "metadata": {
        "id": "agjM8dIbSsx3"
      }
    },
    {
      "cell_type": "markdown",
      "source": [
        "7.2 Train the Model"
      ],
      "metadata": {
        "id": "ujiyG7N7SwOb"
      }
    },
    {
      "cell_type": "markdown",
      "source": [
        "7.3 Evaluate the Model"
      ],
      "metadata": {
        "id": "QeVPwVBxSzMz"
      }
    },
    {
      "cell_type": "markdown",
      "source": [
        "# **8. Neural Network Model**"
      ],
      "metadata": {
        "id": "NgUMPIVfS0Ed"
      }
    },
    {
      "cell_type": "markdown",
      "source": [
        "8.1 Define the Architecture"
      ],
      "metadata": {
        "id": "DUJJmOhlS88y"
      }
    },
    {
      "cell_type": "markdown",
      "source": [
        "8.2 Compile the Model"
      ],
      "metadata": {
        "id": "4o4ftXuQS_Td"
      }
    },
    {
      "cell_type": "markdown",
      "source": [
        "8.3 Train the Model"
      ],
      "metadata": {
        "id": "eQmT1rsDTB-p"
      }
    },
    {
      "cell_type": "markdown",
      "source": [
        "8.4 Evaluate the Model"
      ],
      "metadata": {
        "id": "7D-ydSarTD81"
      }
    },
    {
      "cell_type": "markdown",
      "source": [
        "# **9. Hyperparameter Tuning**"
      ],
      "metadata": {
        "id": "PhzvqGchTHMt"
      }
    },
    {
      "cell_type": "markdown",
      "source": [
        "9.1 Random Forest Tuning"
      ],
      "metadata": {
        "id": "t4MA_TKPTJtT"
      }
    },
    {
      "cell_type": "markdown",
      "source": [
        "9.2 Neural Network Tuning"
      ],
      "metadata": {
        "id": "e9Gn3XHsTMfp"
      }
    },
    {
      "cell_type": "markdown",
      "source": [
        "# **10. Model Evaluation**"
      ],
      "metadata": {
        "id": "790PNnBLTUKZ"
      }
    },
    {
      "cell_type": "markdown",
      "source": [
        "10.1 Accuracy"
      ],
      "metadata": {
        "id": "eA7jTvjjTWX3"
      }
    },
    {
      "cell_type": "markdown",
      "source": [
        "10.2 Precision, Recall, F1-Score"
      ],
      "metadata": {
        "id": "rUm1XJS6TYuD"
      }
    },
    {
      "cell_type": "markdown",
      "source": [
        "10.3 Confusion Matrix"
      ],
      "metadata": {
        "id": "0nd23UVsTa6b"
      }
    },
    {
      "cell_type": "markdown",
      "source": [
        "10.4 ROC Curve"
      ],
      "metadata": {
        "id": "wpHL878-TdsA"
      }
    },
    {
      "cell_type": "markdown",
      "source": [
        "# **11. Model Deployment**"
      ],
      "metadata": {
        "id": "kZ1HY3O6Ti-y"
      }
    },
    {
      "cell_type": "markdown",
      "source": [
        "Random Forest:"
      ],
      "metadata": {
        "id": "E-75IfUXTnCV"
      }
    },
    {
      "cell_type": "markdown",
      "source": [
        "Neural Network:"
      ],
      "metadata": {
        "id": "GNAgr0qLTpH5"
      }
    }
  ]
}